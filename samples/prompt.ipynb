{
 "cells": [
  {
   "cell_type": "code",
   "execution_count": 39,
   "metadata": {},
   "outputs": [],
   "source": [
    "system_prompt= \"\"\"\n",
    "    You are a helpful assistant whose job it is to extract requested data from the supplied content.\n",
    "    Only output results as plain text.\n",
    "    If you cannot find the data request, output 'Data not found'.\n",
    "\"\"\""
   ]
  },
  {
   "cell_type": "code",
   "execution_count": 22,
   "metadata": {},
   "outputs": [],
   "source": [
    "extraction=\"\"\"\n",
    "    By the end of 2023, our work to increase our operational efficiency had generated £155m of annualised cost reduction since the beginning of 2022, supporting our ability to absorb the in year cost headwinds.\n",
    "\n",
    "    We have significantly reduced our net debt from £909m at the beginning of 2022 to £82m at the end of 2023 (a reduction of £827m over two years and £240m in 2023). While driving a reduction in interest charges, the investment disciplines \n",
    "    we have implemented, the right-sizing of our businesses and the focus on operational and cost improvement have enabled us to deliver value to our member-owners while building strong foundations for our future growth.\n",
    "\n",
    "    The investments we have been making in our Food store estate are really paying off, and we are seeing many stores that had been underperforming now consistently generating more revenue for our Co-op.\n",
    "\n",
    "    Our life services businesses have all performed strongly in their markets driving increases in revenue across the individual business units in Funeralcare, Insurance and Legal Services.\n",
    "\n",
    "    We are very proud of this year’s positive performance. It allows us to plan ahead for the longer term and build an ambitious plan for our future, based on our Co-op Difference and our new Vision and strategy, all of which place \n",
    "    our member-owners firmly at the heart of all we do, and with the growth of our Co-op as our strategic focus.\n",
    "\n",
    "    I’ll share more detail on these plans in my Looking Ahead update a little later in the report.\n",
    "\"\"\""
   ]
  },
  {
   "cell_type": "code",
   "execution_count": 3,
   "metadata": {},
   "outputs": [],
   "source": [
    "user_prompt = \"What is the net debt at the end of 2023?\""
   ]
  },
  {
   "cell_type": "code",
   "execution_count": 4,
   "metadata": {},
   "outputs": [],
   "source": [
    "import os\n",
    "from openai import AzureOpenAI\n",
    "\n",
    "azure_endpoint = os.getenv(\"AZURE_OPENAI_ENDPOINT\")\n",
    "api_key = os.getenv(\"AZURE_OPENAI_API_KEY\")\n",
    "\n",
    "client = AzureOpenAI(azure_endpoint=azure_endpoint, api_key=api_key, api_version=\"2024-08-01-preview\")"
   ]
  },
  {
   "cell_type": "code",
   "execution_count": 40,
   "metadata": {},
   "outputs": [],
   "source": [
    "conversation = [\n",
    "            {\n",
    "                \"role\": \"system\",\n",
    "                \"content\": system_prompt,\n",
    "            },\n",
    "            {\n",
    "                \"role\": \"user\",\n",
    "                \"content\": [\n",
    "                    {\n",
    "                        \"type\": \"text\",\n",
    "                        \"text\": extraction,\n",
    "                    },\n",
    "                    {\n",
    "                        \"type\": \"text\",\n",
    "                        \"text\": user_prompt,\n",
    "                    }\n",
    "                ],\n",
    "                \"temperature\": 0,\n",
    "                \"max_tokens\": 250,\n",
    "            },\n",
    "        ]\n"
   ]
  },
  {
   "cell_type": "code",
   "execution_count": null,
   "metadata": {},
   "outputs": [],
   "source": [
    "import json\n",
    "\n",
    "response = client.chat.completions.create(model=\"gpt-4o\", messages=conversation)\n",
    "output = response.choices[0].message.content\n",
    "print(json.dumps({\"result\": output}, indent=4))"
   ]
  }
 ],
 "metadata": {
  "kernelspec": {
   "display_name": "execution_engine_test-bXBxfZWE-py3.11",
   "language": "python",
   "name": "python3"
  },
  "language_info": {
   "codemirror_mode": {
    "name": "ipython",
    "version": 3
   },
   "file_extension": ".py",
   "mimetype": "text/x-python",
   "name": "python",
   "nbconvert_exporter": "python",
   "pygments_lexer": "ipython3",
   "version": "3.11.11"
  }
 },
 "nbformat": 4,
 "nbformat_minor": 2
}
